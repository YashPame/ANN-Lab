{
 "cells": [
  {
   "cell_type": "code",
   "execution_count": 1,
   "metadata": {},
   "outputs": [],
   "source": [
    "import warnings \n",
    "warnings.filterwarnings('ignore')"
   ]
  },
  {
   "cell_type": "code",
   "execution_count": 2,
   "metadata": {},
   "outputs": [],
   "source": [
    "import numpy as np\n",
    "import matplotlib.pyplot as plt"
   ]
  },
  {
   "cell_type": "code",
   "execution_count": 3,
   "metadata": {},
   "outputs": [],
   "source": [
    "training_data = np.array([\n",
    "    [1.2, 3.7, 1],\n",
    "    [2.3, 4.2, 1],\n",
    "    [3.1, 5.0, 1],\n",
    "    [4.4, 1.8, -1],\n",
    "    [5.5, 2.4, -1],\n",
    "    [5.7, 1.9, -1],\n",
    "])"
   ]
  },
  {
   "cell_type": "code",
   "execution_count": 4,
   "metadata": {},
   "outputs": [],
   "source": [
    "inputs = training_data[:, :2]\n",
    "targets = training_data[:, 2:]"
   ]
  },
  {
   "cell_type": "code",
   "execution_count": 5,
   "metadata": {},
   "outputs": [],
   "source": [
    "def perceptron(inputs, targets, learning_rate, num_epochs):\n",
    "    num_inputs = inputs.shape[1]\n",
    "    num_outputs = targets.shape[1]\n",
    "\n",
    "    weights = np.random.randn(num_inputs, num_outputs)\n",
    "    bias = np.random.randn(num_outputs)\n",
    "\n",
    "    for epoch in range(num_epochs):\n",
    "        for input_, target in zip(inputs, targets):\n",
    "            output = np.dot(input_, weights) + bias\n",
    "            error = target - output\n",
    "\n",
    "            weights += learning_rate * np.outer(input_, error)\n",
    "            bias += learning_rate * error\n",
    "    \n",
    "    return weights, bias"
   ]
  },
  {
   "cell_type": "code",
   "execution_count": 6,
   "metadata": {},
   "outputs": [],
   "source": [
    "weights, bias = perceptron(inputs, targets, learning_rate=0.1, num_epochs=100)"
   ]
  },
  {
   "cell_type": "code",
   "execution_count": 7,
   "metadata": {},
   "outputs": [
    {
     "data": {
      "image/png": "[encoded data removed]",
      "text/plain": [
       "<Figure size 288x288 with 1 Axes>"
      ]
     },
     "metadata": {
      "needs_background": "light"
     },
     "output_type": "display_data"
    }
   ],
   "source": [
    "x_min, x_max = inputs[:, 0].min() - 1, inputs[:, 0].max() + 1\n",
    "y_min, y_max = inputs[:, 1].min() - 1, inputs[:, 1].max() + 1\n",
    "xx, yy = np.meshgrid(np.arange(x_min, x_max, 0.01), np.arange(y_min, y_max, 0.01))\n",
    "Z = np.sign(np.dot(np.c_[xx.ravel(), yy.ravel()], weights) + bias)\n",
    "Z = Z.reshape(xx.shape)\n",
    "\n",
    "plt.figure(figsize=(4, 4))\n",
    "plt.contourf(xx, yy, Z, alpha=0.4)\n",
    "plt.scatter(inputs[:, 0], inputs[:, 1], c=targets[:, 0], cmap=plt.cm.bwr)\n",
    "plt.xlabel('Feature 1')\n",
    "plt.ylabel('Feature 2')\n",
    "plt.title('Perceptron Decision Region')\n",
    "plt.show()"
   ]
  }
 ],
 "metadata": {
  "kernelspec": {
   "display_name": "Python 3",
   "language": "python",
   "name": "python3"
  },
  "language_info": {
   "codemirror_mode": {
    "name": "ipython",
    "version": 3
   },
   "file_extension": ".py",
   "mimetype": "text/x-python",
   "name": "python",
   "nbconvert_exporter": "python",
   "pygments_lexer": "ipython3",
   "version": "3.9.5"
  },
  "orig_nbformat": 4
 },
 "nbformat": 4,
 "nbformat_minor": 2
}
