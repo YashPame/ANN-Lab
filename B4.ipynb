{
 "cells": [
  {
   "cell_type": "code",
   "execution_count": 1,
   "metadata": {},
   "outputs": [],
   "source": [
    "import warnings\n",
    "warnings.filterwarnings('ignore')"
   ]
  },
  {
   "cell_type": "code",
   "execution_count": 2,
   "metadata": {},
   "outputs": [],
   "source": [
    "import numpy as np"
   ]
  },
  {
   "cell_type": "code",
   "execution_count": 3,
   "metadata": {},
   "outputs": [],
   "source": [
    "def to_bipolar(vec):\n",
    "    print(np.array([1 if elem > 0 else -1 for elem in vec]))\n",
    "    return np.array([1 if elem > 0 else -1 for elem in vec])\n",
    "\n",
    "def hebbian_learning_rule(vectors):\n",
    "    n = vectors.shape[1]\n",
    "    weight_matrix = np.zeros((n, n))    \n",
    "    for vec in vectors:\n",
    "        weight_matrix += np.outer(vec, vec)\n",
    "        \n",
    "    np.fill_diagonal(weight_matrix, 0)\n",
    "    print(\"weight_matrix\",weight_matrix)\n",
    "    return weight_matrix\n",
    "\n",
    "def synchronous_update(weight_matrix, input_vector):\n",
    "    return np.sign(np.dot(weight_matrix, input_vector))\n",
    "def is_recall_success(weight_matrix, input_vector):\n",
    "    output_vector = synchronous_update(weight_matrix, input_vector)\n",
    "    return np.array_equal(input_vector, output_vector)"
   ]
  },
  {
   "cell_type": "code",
   "execution_count": 4,
   "metadata": {},
   "outputs": [
    {
     "name": "stdout",
     "output_type": "stream",
     "text": [
      "[-1 -1 -1  1  1]\n",
      "[-1  1 -1  1 -1]\n",
      "[-1  1 -1 -1  1]\n",
      "[-1 -1 -1  1  1]\n"
     ]
    }
   ],
   "source": [
    "input_vectors = np.array([\n",
    "        to_bipolar([0, 0, 0, 1, 1]),\n",
    "        to_bipolar([0, 1, 0, 1, 0]),\n",
    "        to_bipolar([0, 1, 0, 0, 1]),\n",
    "        to_bipolar([0, 0, 0, 1, 1]),\n",
    "    ])"
   ]
  },
  {
   "cell_type": "code",
   "execution_count": 5,
   "metadata": {},
   "outputs": [
    {
     "name": "stdout",
     "output_type": "stream",
     "text": [
      "weight_matrix [[ 0.  0.  4. -2. -2.]\n",
      " [ 0.  0.  0. -2. -2.]\n",
      " [ 4.  0.  0. -2. -2.]\n",
      " [-2. -2. -2.  0.  0.]\n",
      " [-2. -2. -2.  0.  0.]]\n",
      "Input vector 1 is successfully recalled.\n",
      "Input vector 2 is not successfully recalled.\n",
      "Input vector 3 is not successfully recalled.\n",
      "Input vector 4 is successfully recalled.\n"
     ]
    }
   ],
   "source": [
    "weight_matrix = hebbian_learning_rule(input_vectors)\n",
    "\n",
    "for i, vec in enumerate(input_vectors):\n",
    "    if is_recall_success(weight_matrix, vec):\n",
    "        print(f\"Input vector {i+1} is successfully recalled.\")\n",
    "    else:\n",
    "        print(f\"Input vector {i+1} is not successfully recalled.\")"
   ]
  }
 ],
 "metadata": {
  "kernelspec": {
   "display_name": "Python 3",
   "language": "python",
   "name": "python3"
  },
  "language_info": {
   "codemirror_mode": {
    "name": "ipython",
    "version": 3
   },
   "file_extension": ".py",
   "mimetype": "text/x-python",
   "name": "python",
   "nbconvert_exporter": "python",
   "pygments_lexer": "ipython3",
   "version": "3.9.5"
  },
  "orig_nbformat": 4
 },
 "nbformat": 4,
 "nbformat_minor": 2
}
