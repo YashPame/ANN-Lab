{
 "cells": [
  {
   "cell_type": "code",
   "execution_count": 1,
   "metadata": {},
   "outputs": [],
   "source": [
    "def McCullochPitts_Neuron(x, w, theta):\n",
    "    net_input = sum([x[i]*w[i] for i in range(len(x))])\n",
    "    if net_input >= theta:\n",
    "        return 1\n",
    "    else:\n",
    "        return 0"
   ]
  },
  {
   "cell_type": "code",
   "execution_count": 2,
   "metadata": {},
   "outputs": [],
   "source": [
    "def NAND(x1, x2):\n",
    "    w1, w2, theta = -2, -2, -3\n",
    "    x = [x1, x2]\n",
    "    output = McCullochPitts_Neuron(x, [w1, w2], theta)\n",
    "    return output"
   ]
  },
  {
   "cell_type": "code",
   "execution_count": 3,
   "metadata": {},
   "outputs": [
    {
     "name": "stdout",
     "output_type": "stream",
     "text": [
      "X1: 0, X2: 0 ----> NAND:  1\n",
      "X1: 0, X2: 1 ----> NAND:  1\n",
      "X1: 1, X2: 0 ----> NAND:  1\n",
      "X1: 1, X2: 1 ----> NAND:  0\n"
     ]
    }
   ],
   "source": [
    "print(\"X1: 0, X2: 0 ----> NAND: \", NAND(0, 0))\n",
    "print(\"X1: 0, X2: 1 ----> NAND: \", NAND(0, 1))\n",
    "print(\"X1: 1, X2: 0 ----> NAND: \", NAND(1, 0))\n",
    "print(\"X1: 1, X2: 1 ----> NAND: \", NAND(1, 1))"
   ]
  }
 ],
 "metadata": {
  "kernelspec": {
   "display_name": "Python 3",
   "language": "python",
   "name": "python3"
  },
  "language_info": {
   "codemirror_mode": {
    "name": "ipython",
    "version": 3
   },
   "file_extension": ".py",
   "mimetype": "text/x-python",
   "name": "python",
   "nbconvert_exporter": "python",
   "pygments_lexer": "ipython3",
   "version": "3.9.5"
  },
  "orig_nbformat": 4
 },
 "nbformat": 4,
 "nbformat_minor": 2
}
