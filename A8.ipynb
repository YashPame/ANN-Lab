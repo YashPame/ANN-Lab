{
 "cells": [
  {
   "cell_type": "code",
   "execution_count": 1,
   "metadata": {},
   "outputs": [],
   "source": [
    "import warnings\n",
    "warnings.filterwarnings('ignore')"
   ]
  },
  {
   "cell_type": "code",
   "execution_count": 2,
   "metadata": {},
   "outputs": [],
   "source": [
    "import pandas as pd\n",
    "import tensorflow as tf\n",
    "from sklearn.datasets import load_iris\n",
    "from sklearn.model_selection import train_test_split\n",
    "from sklearn.preprocessing import StandardScaler\n",
    "from tensorflow.keras.layers import Dense\n",
    "from tensorflow.keras.models import Sequential"
   ]
  },
  {
   "cell_type": "code",
   "execution_count": 3,
   "metadata": {},
   "outputs": [],
   "source": [
    "iris = load_iris()\n",
    "X = iris.data\n",
    "y = iris.target"
   ]
  },
  {
   "cell_type": "code",
   "execution_count": 4,
   "metadata": {},
   "outputs": [],
   "source": [
    "scaler = StandardScaler()\n",
    "X = scaler.fit_transform(X)"
   ]
  },
  {
   "cell_type": "code",
   "execution_count": 5,
   "metadata": {},
   "outputs": [],
   "source": [
    "X_train, X_test, y_train, y_test = train_test_split(X, y, test_size=0.2, random_state=42)\n",
    "X_train, X_val, y_train, y_val = train_test_split(X_train, y_train, test_size=0.2, random_state=42)"
   ]
  },
  {
   "cell_type": "code",
   "execution_count": 6,
   "metadata": {},
   "outputs": [
    {
     "name": "stdout",
     "output_type": "stream",
     "text": [
      "Epoch 1/50\n",
      "3/3 [==============================] - 0s 69ms/step - loss: 1.0912 - accuracy: 0.3750 - val_loss: 1.0814 - val_accuracy: 0.2917\n",
      "Epoch 2/50\n",
      "3/3 [==============================] - 0s 15ms/step - loss: 1.0196 - accuracy: 0.5833 - val_loss: 1.0163 - val_accuracy: 0.7083\n",
      "Epoch 3/50\n",
      "3/3 [==============================] - 0s 16ms/step - loss: 0.9553 - accuracy: 0.6979 - val_loss: 0.9589 - val_accuracy: 0.7917\n",
      "Epoch 4/50\n",
      "3/3 [==============================] - 0s 14ms/step - loss: 0.8984 - accuracy: 0.7812 - val_loss: 0.9065 - val_accuracy: 0.7917\n",
      "Epoch 5/50\n",
      "3/3 [==============================] - 0s 16ms/step - loss: 0.8465 - accuracy: 0.7917 - val_loss: 0.8579 - val_accuracy: 0.8333\n",
      "Epoch 6/50\n",
      "3/3 [==============================] - 0s 14ms/step - loss: 0.7955 - accuracy: 0.7917 - val_loss: 0.8128 - val_accuracy: 0.8333\n",
      "Epoch 7/50\n",
      "3/3 [==============================] - 0s 14ms/step - loss: 0.7484 - accuracy: 0.8021 - val_loss: 0.7704 - val_accuracy: 0.8333\n",
      "Epoch 8/50\n",
      "3/3 [==============================] - 0s 14ms/step - loss: 0.7036 - accuracy: 0.8125 - val_loss: 0.7308 - val_accuracy: 0.8750\n",
      "Epoch 9/50\n",
      "3/3 [==============================] - 0s 14ms/step - loss: 0.6610 - accuracy: 0.8125 - val_loss: 0.6946 - val_accuracy: 0.8333\n",
      "Epoch 10/50\n",
      "3/3 [==============================] - 0s 14ms/step - loss: 0.6214 - accuracy: 0.8125 - val_loss: 0.6611 - val_accuracy: 0.7917\n",
      "Epoch 11/50\n",
      "3/3 [==============================] - 0s 13ms/step - loss: 0.5853 - accuracy: 0.8021 - val_loss: 0.6311 - val_accuracy: 0.8333\n",
      "Epoch 12/50\n",
      "3/3 [==============================] - 0s 15ms/step - loss: 0.5539 - accuracy: 0.8021 - val_loss: 0.6039 - val_accuracy: 0.8333\n",
      "Epoch 13/50\n",
      "3/3 [==============================] - 0s 16ms/step - loss: 0.5255 - accuracy: 0.8125 - val_loss: 0.5798 - val_accuracy: 0.8333\n",
      "Epoch 14/50\n",
      "3/3 [==============================] - 0s 15ms/step - loss: 0.4992 - accuracy: 0.8125 - val_loss: 0.5574 - val_accuracy: 0.8333\n",
      "Epoch 15/50\n",
      "3/3 [==============================] - 0s 16ms/step - loss: 0.4764 - accuracy: 0.8125 - val_loss: 0.5366 - val_accuracy: 0.8333\n",
      "Epoch 16/50\n",
      "3/3 [==============================] - 0s 13ms/step - loss: 0.4563 - accuracy: 0.8125 - val_loss: 0.5176 - val_accuracy: 0.8333\n",
      "Epoch 17/50\n",
      "3/3 [==============================] - 0s 14ms/step - loss: 0.4377 - accuracy: 0.8125 - val_loss: 0.4996 - val_accuracy: 0.8333\n",
      "Epoch 18/50\n",
      "3/3 [==============================] - 0s 13ms/step - loss: 0.4214 - accuracy: 0.8125 - val_loss: 0.4818 - val_accuracy: 0.8333\n",
      "Epoch 19/50\n",
      "3/3 [==============================] - 0s 15ms/step - loss: 0.4067 - accuracy: 0.8125 - val_loss: 0.4652 - val_accuracy: 0.8333\n",
      "Epoch 20/50\n",
      "3/3 [==============================] - 0s 12ms/step - loss: 0.3927 - accuracy: 0.8229 - val_loss: 0.4498 - val_accuracy: 0.8333\n",
      "Epoch 21/50\n",
      "3/3 [==============================] - 0s 15ms/step - loss: 0.3808 - accuracy: 0.8229 - val_loss: 0.4351 - val_accuracy: 0.8333\n",
      "Epoch 22/50\n",
      "3/3 [==============================] - 0s 13ms/step - loss: 0.3694 - accuracy: 0.8229 - val_loss: 0.4230 - val_accuracy: 0.8333\n",
      "Epoch 23/50\n",
      "3/3 [==============================] - 0s 12ms/step - loss: 0.3591 - accuracy: 0.8229 - val_loss: 0.4103 - val_accuracy: 0.8333\n",
      "Epoch 24/50\n",
      "3/3 [==============================] - 0s 14ms/step - loss: 0.3497 - accuracy: 0.8229 - val_loss: 0.3992 - val_accuracy: 0.8333\n",
      "Epoch 25/50\n",
      "3/3 [==============================] - 0s 13ms/step - loss: 0.3398 - accuracy: 0.8229 - val_loss: 0.3914 - val_accuracy: 0.8333\n",
      "Epoch 26/50\n",
      "3/3 [==============================] - 0s 14ms/step - loss: 0.3314 - accuracy: 0.8333 - val_loss: 0.3833 - val_accuracy: 0.7917\n",
      "Epoch 27/50\n",
      "3/3 [==============================] - 0s 28ms/step - loss: 0.3236 - accuracy: 0.8333 - val_loss: 0.3752 - val_accuracy: 0.7917\n",
      "Epoch 28/50\n",
      "3/3 [==============================] - 0s 15ms/step - loss: 0.3152 - accuracy: 0.8333 - val_loss: 0.3688 - val_accuracy: 0.7917\n",
      "Epoch 29/50\n",
      "3/3 [==============================] - 0s 12ms/step - loss: 0.3080 - accuracy: 0.8438 - val_loss: 0.3625 - val_accuracy: 0.7917\n",
      "Epoch 30/50\n",
      "3/3 [==============================] - 0s 12ms/step - loss: 0.3006 - accuracy: 0.8438 - val_loss: 0.3568 - val_accuracy: 0.7917\n",
      "Epoch 31/50\n",
      "3/3 [==============================] - 0s 13ms/step - loss: 0.2939 - accuracy: 0.8542 - val_loss: 0.3499 - val_accuracy: 0.7917\n",
      "Epoch 32/50\n",
      "3/3 [==============================] - 0s 13ms/step - loss: 0.2871 - accuracy: 0.8542 - val_loss: 0.3447 - val_accuracy: 0.7917\n",
      "Epoch 33/50\n",
      "3/3 [==============================] - 0s 15ms/step - loss: 0.2795 - accuracy: 0.8542 - val_loss: 0.3380 - val_accuracy: 0.7917\n",
      "Epoch 34/50\n",
      "3/3 [==============================] - 0s 12ms/step - loss: 0.2734 - accuracy: 0.8542 - val_loss: 0.3330 - val_accuracy: 0.8333\n",
      "Epoch 35/50\n",
      "3/3 [==============================] - 0s 14ms/step - loss: 0.2665 - accuracy: 0.8542 - val_loss: 0.3266 - val_accuracy: 0.8333\n",
      "Epoch 36/50\n",
      "3/3 [==============================] - 0s 14ms/step - loss: 0.2605 - accuracy: 0.8646 - val_loss: 0.3224 - val_accuracy: 0.8333\n",
      "Epoch 37/50\n",
      "3/3 [==============================] - 0s 14ms/step - loss: 0.2538 - accuracy: 0.8750 - val_loss: 0.3177 - val_accuracy: 0.8333\n",
      "Epoch 38/50\n",
      "3/3 [==============================] - 0s 13ms/step - loss: 0.2477 - accuracy: 0.8750 - val_loss: 0.3152 - val_accuracy: 0.8333\n",
      "Epoch 39/50\n",
      "3/3 [==============================] - 0s 13ms/step - loss: 0.2413 - accuracy: 0.8854 - val_loss: 0.3099 - val_accuracy: 0.8333\n",
      "Epoch 40/50\n",
      "3/3 [==============================] - 0s 13ms/step - loss: 0.2350 - accuracy: 0.8958 - val_loss: 0.3062 - val_accuracy: 0.8333\n",
      "Epoch 41/50\n",
      "3/3 [==============================] - 0s 14ms/step - loss: 0.2288 - accuracy: 0.8958 - val_loss: 0.3030 - val_accuracy: 0.8333\n",
      "Epoch 42/50\n",
      "3/3 [==============================] - 0s 12ms/step - loss: 0.2226 - accuracy: 0.8958 - val_loss: 0.3016 - val_accuracy: 0.8333\n",
      "Epoch 43/50\n",
      "3/3 [==============================] - 0s 12ms/step - loss: 0.2168 - accuracy: 0.9062 - val_loss: 0.2979 - val_accuracy: 0.8333\n",
      "Epoch 44/50\n",
      "3/3 [==============================] - 0s 13ms/step - loss: 0.2110 - accuracy: 0.9167 - val_loss: 0.2938 - val_accuracy: 0.8333\n",
      "Epoch 45/50\n",
      "3/3 [==============================] - 0s 13ms/step - loss: 0.2051 - accuracy: 0.9479 - val_loss: 0.2910 - val_accuracy: 0.8333\n",
      "Epoch 46/50\n",
      "3/3 [==============================] - 0s 14ms/step - loss: 0.1990 - accuracy: 0.9479 - val_loss: 0.2858 - val_accuracy: 0.8333\n",
      "Epoch 47/50\n",
      "3/3 [==============================] - 0s 13ms/step - loss: 0.1936 - accuracy: 0.9688 - val_loss: 0.2804 - val_accuracy: 0.8333\n",
      "Epoch 48/50\n",
      "3/3 [==============================] - 0s 12ms/step - loss: 0.1879 - accuracy: 0.9688 - val_loss: 0.2755 - val_accuracy: 0.8333\n",
      "Epoch 49/50\n",
      "3/3 [==============================] - 0s 14ms/step - loss: 0.1822 - accuracy: 0.9688 - val_loss: 0.2728 - val_accuracy: 0.8333\n",
      "Epoch 50/50\n",
      "3/3 [==============================] - 0s 15ms/step - loss: 0.1769 - accuracy: 0.9688 - val_loss: 0.2700 - val_accuracy: 0.8750\n"
     ]
    }
   ],
   "source": [
    "model = Sequential([\n",
    "    Dense(64, activation='relu', input_shape=(X_train.shape[1],)),\n",
    "    Dense(32, activation='relu'),\n",
    "    Dense(3, activation='softmax')\n",
    "])\n",
    "model.compile(optimizer='adam', loss='sparse_categorical_crossentropy', metrics=['accuracy'])\n",
    "history = model.fit(X_train, y_train, epochs=50, validation_data=(X_val, y_val))"
   ]
  },
  {
   "cell_type": "code",
   "execution_count": 7,
   "metadata": {},
   "outputs": [
    {
     "name": "stdout",
     "output_type": "stream",
     "text": [
      "1/1 [==============================] - 0s 17ms/step - loss: 0.1503 - accuracy: 0.9333\n",
      "Test loss: 0.150339737534523\n",
      "Test accuracy: 0.9333333373069763\n"
     ]
    }
   ],
   "source": [
    "test_loss, test_acc = model.evaluate(X_test, y_test)\n",
    "print('Test loss:', test_loss)\n",
    "print('Test accuracy:', test_acc)"
   ]
  }
 ],
 "metadata": {
  "kernelspec": {
   "display_name": "Python 3",
   "language": "python",
   "name": "python3"
  },
  "language_info": {
   "codemirror_mode": {
    "name": "ipython",
    "version": 3
   },
   "file_extension": ".py",
   "mimetype": "text/x-python",
   "name": "python",
   "nbconvert_exporter": "python",
   "pygments_lexer": "ipython3",
   "version": "3.9.5"
  },
  "orig_nbformat": 4
 },
 "nbformat": 4,
 "nbformat_minor": 2
}
